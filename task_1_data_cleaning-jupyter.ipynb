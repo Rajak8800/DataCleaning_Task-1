{
 "cells": [
  {
   "cell_type": "markdown",
   "id": "b015d7b4",
   "metadata": {},
   "source": [
    "# 🧹 Task 1 – Data Cleaning (Elevate Labs Internship)"
   ]
  },
  {
   "cell_type": "markdown",
   "id": "6b2bbd17",
   "metadata": {},
   "source": [
    "This notebook demonstrates how I cleaned and preprocessed a raw order dataset as part of my data analyst internship task."
   ]
  },
  {
   "cell_type": "code",
   "execution_count": null,
   "id": "64026482",
   "metadata": {},
   "outputs": [],
   "source": [
    "import pandas as pd"
   ]
  },
  {
   "cell_type": "code",
   "execution_count": null,
   "id": "dcbcdf1c",
   "metadata": {},
   "outputs": [],
   "source": [
    "df = pd.read_excel('Task_1DataCleaning_Elevate_Labs.xlsx')\n",
    "df.head()"
   ]
  },
  {
   "cell_type": "code",
   "execution_count": null,
   "id": "19aeaa44",
   "metadata": {},
   "outputs": [],
   "source": [
    "df_clean = df.copy()\n",
    "\n",
    "# Fill missing values\n",
    "df_clean['Customer Name'] = df_clean['Customer Name'].fillna('Unknown')\n",
    "df_clean['Region'] = df_clean['Region'].fillna('Unknown')\n",
    "\n",
    "# Convert Order Date to consistent format\n",
    "df_clean['Order Date'] = pd.to_datetime(df_clean['Order Date'], infer_datetime_format=True, errors='coerce')\n",
    "\n",
    "# Clean Quantity column\n",
    "df_clean['Quantity'] = pd.to_numeric(df_clean['Quantity'], errors='coerce').fillna(0).astype(int)\n",
    "\n",
    "# Clean Price column\n",
    "df_clean['Price'] = df_clean['Price'].replace(r'[\\$,]', '', regex=True).astype(float)\n",
    "\n",
    "# Rename columns\n",
    "df_clean.columns = [c.strip().lower().replace(' ', '_') for c in df_clean.columns]\n",
    "\n",
    "# Remove duplicates\n",
    "df_clean = df_clean.drop_duplicates()\n",
    "\n",
    "df_clean.head()"
   ]
  },
  {
   "cell_type": "code",
   "execution_count": null,
   "id": "e8b30e64",
   "metadata": {},
   "outputs": [],
   "source": [
    "df_clean.to_csv('cleaned_dataset.csv', index=False)\n",
    "print('Cleaned dataset saved!')"
   ]
  }
 ],
 "metadata": {},
 "nbformat": 4,
 "nbformat_minor": 5
}
